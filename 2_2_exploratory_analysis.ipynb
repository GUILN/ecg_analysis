{
 "cells": [
  {
   "attachments": {},
   "cell_type": "markdown",
   "metadata": {},
   "source": [
    "# Exploratory Analysis 2 🗺️ 📈 "
   ]
  },
  {
   "cell_type": "code",
   "execution_count": 5284,
   "metadata": {},
   "outputs": [],
   "source": [
    "import pandas as pd\n",
    "import numpy as np\n",
    "from scipy.signal import find_peaks\n",
    "\n",
    "pd.plotting.register_matplotlib_converters()\n",
    "import matplotlib.pyplot as plt\n",
    "%matplotlib inline\n",
    "import seaborn as sns"
   ]
  },
  {
   "cell_type": "code",
   "execution_count": 5285,
   "metadata": {},
   "outputs": [],
   "source": [
    "import random\n",
    "# Get random arr, nsr and chf data\n",
    "'''\n",
    "arr: 1 - 96\n",
    "chf: 97 = 126\n",
    "nsr: 127 = 162\n",
    "'''\n",
    "\n",
    "#function to generate random number between two numbers\n",
    "def rand_num(a, b):\n",
    "    return int((b - a) * random.random() + a)\n",
    "\n"
   ]
  },
  {
   "attachments": {},
   "cell_type": "markdown",
   "metadata": {},
   "source": [
    "## Applying Filters 🚬"
   ]
  },
  {
   "attachments": {},
   "cell_type": "markdown",
   "metadata": {},
   "source": [
    "### Applying Sin Wave Filter 🌊\n"
   ]
  },
  {
   "cell_type": "code",
   "execution_count": 5286,
   "metadata": {},
   "outputs": [],
   "source": [
    "import numpy as np\n",
    "\n",
    "v = np.linspace(0.5 * np.pi, 1.5 * np.pi, 15)\n",
    "peak_filter = np.sin(v)\n",
    "def apply_wave_filter(signals):\n",
    "    return pd.DataFrame(np.correlate(signals, peak_filter, mode='same'))"
   ]
  },
  {
   "attachments": {},
   "cell_type": "markdown",
   "metadata": {},
   "source": [
    "### Fourier Transform 🥖 🇫🇷 🌊\n"
   ]
  },
  {
   "cell_type": "code",
   "execution_count": 5287,
   "metadata": {},
   "outputs": [],
   "source": [
    "from scipy.fft import fft, fft2, fftfreq\n",
    "\n",
    "def fft_filter(signals):\n",
    "    return pd.DataFrame(np.abs(fft(signals.to_frame())))\n",
    "\n",
    "def fft2_filter(signals):\n",
    "    return pd.DataFrame(np.abs(fft2(signals.to_frame())))\n",
    "   \n",
    "def fftfreq_filter(signals):\n",
    "    return pd.DataFrame(np.abs(fftfreq(signals.to_frame().shape[0]))) "
   ]
  },
  {
   "attachments": {},
   "cell_type": "markdown",
   "metadata": {},
   "source": [
    "### Moving Average 🚚 ⨏\n"
   ]
  },
  {
   "cell_type": "code",
   "execution_count": 5288,
   "metadata": {},
   "outputs": [],
   "source": [
    "def moving_average(signals, n=100):\n",
    "    return signals.rolling(n).mean()"
   ]
  },
  {
   "attachments": {},
   "cell_type": "markdown",
   "metadata": {},
   "source": [
    "### Moving Median 🚚 "
   ]
  },
  {
   "cell_type": "code",
   "execution_count": 5289,
   "metadata": {},
   "outputs": [],
   "source": [
    "def moving_median(signals, n=10000):\n",
    "    return signals.rolling(n).median()"
   ]
  },
  {
   "attachments": {},
   "cell_type": "markdown",
   "metadata": {},
   "source": [
    "### Loading data 💽"
   ]
  },
  {
   "cell_type": "code",
   "execution_count": 5290,
   "metadata": {},
   "outputs": [
    {
     "data": {
      "text/html": [
       "<div>\n",
       "<style scoped>\n",
       "    .dataframe tbody tr th:only-of-type {\n",
       "        vertical-align: middle;\n",
       "    }\n",
       "\n",
       "    .dataframe tbody tr th {\n",
       "        vertical-align: top;\n",
       "    }\n",
       "\n",
       "    .dataframe thead th {\n",
       "        text-align: right;\n",
       "    }\n",
       "</style>\n",
       "<table border=\"1\" class=\"dataframe\">\n",
       "  <thead>\n",
       "    <tr style=\"text-align: right;\">\n",
       "      <th></th>\n",
       "      <th>1 sec</th>\n",
       "      <th>2 sec</th>\n",
       "      <th>3 sec</th>\n",
       "      <th>4 sec</th>\n",
       "      <th>5 sec</th>\n",
       "      <th>6 sec</th>\n",
       "      <th>7 sec</th>\n",
       "      <th>8 sec</th>\n",
       "      <th>9 sec</th>\n",
       "      <th>10 sec</th>\n",
       "      <th>...</th>\n",
       "      <th>65527 sec</th>\n",
       "      <th>65528 sec</th>\n",
       "      <th>65529 sec</th>\n",
       "      <th>65530 sec</th>\n",
       "      <th>65531 sec</th>\n",
       "      <th>65532 sec</th>\n",
       "      <th>65533 sec</th>\n",
       "      <th>65534 sec</th>\n",
       "      <th>65535 sec</th>\n",
       "      <th>65536 sec</th>\n",
       "    </tr>\n",
       "  </thead>\n",
       "  <tbody>\n",
       "    <tr>\n",
       "      <th>0</th>\n",
       "      <td>0.214941</td>\n",
       "      <td>0.228279</td>\n",
       "      <td>0.240475</td>\n",
       "      <td>0.260607</td>\n",
       "      <td>0.208050</td>\n",
       "      <td>0.126753</td>\n",
       "      <td>0.065538</td>\n",
       "      <td>0.115181</td>\n",
       "      <td>0.144884</td>\n",
       "      <td>0.191248</td>\n",
       "      <td>...</td>\n",
       "      <td>0.088626</td>\n",
       "      <td>0.157729</td>\n",
       "      <td>0.202158</td>\n",
       "      <td>0.201237</td>\n",
       "      <td>0.061257</td>\n",
       "      <td>0.060956</td>\n",
       "      <td>0.037360</td>\n",
       "      <td>0.224294</td>\n",
       "      <td>0.151970</td>\n",
       "      <td>-0.014293</td>\n",
       "    </tr>\n",
       "    <tr>\n",
       "      <th>1</th>\n",
       "      <td>0.971405</td>\n",
       "      <td>0.980312</td>\n",
       "      <td>0.916523</td>\n",
       "      <td>0.923907</td>\n",
       "      <td>0.953878</td>\n",
       "      <td>0.854252</td>\n",
       "      <td>0.576654</td>\n",
       "      <td>0.927088</td>\n",
       "      <td>0.812180</td>\n",
       "      <td>1.015764</td>\n",
       "      <td>...</td>\n",
       "      <td>0.127856</td>\n",
       "      <td>0.165076</td>\n",
       "      <td>0.181198</td>\n",
       "      <td>0.218158</td>\n",
       "      <td>0.127828</td>\n",
       "      <td>0.095513</td>\n",
       "      <td>0.087492</td>\n",
       "      <td>0.169431</td>\n",
       "      <td>0.134480</td>\n",
       "      <td>0.161639</td>\n",
       "    </tr>\n",
       "    <tr>\n",
       "      <th>2</th>\n",
       "      <td>0.470054</td>\n",
       "      <td>0.491595</td>\n",
       "      <td>0.464476</td>\n",
       "      <td>0.485335</td>\n",
       "      <td>0.419391</td>\n",
       "      <td>0.276981</td>\n",
       "      <td>0.239148</td>\n",
       "      <td>0.214900</td>\n",
       "      <td>0.318188</td>\n",
       "      <td>0.236900</td>\n",
       "      <td>...</td>\n",
       "      <td>-0.241655</td>\n",
       "      <td>-0.246052</td>\n",
       "      <td>-0.230415</td>\n",
       "      <td>-0.237020</td>\n",
       "      <td>-0.236365</td>\n",
       "      <td>-0.256937</td>\n",
       "      <td>-0.117470</td>\n",
       "      <td>-0.049210</td>\n",
       "      <td>0.120199</td>\n",
       "      <td>0.123864</td>\n",
       "    </tr>\n",
       "    <tr>\n",
       "      <th>3</th>\n",
       "      <td>-1.214460</td>\n",
       "      <td>-1.193362</td>\n",
       "      <td>-1.043654</td>\n",
       "      <td>-1.110125</td>\n",
       "      <td>-1.078175</td>\n",
       "      <td>-1.080326</td>\n",
       "      <td>-1.160086</td>\n",
       "      <td>-1.392316</td>\n",
       "      <td>-1.404631</td>\n",
       "      <td>-1.315309</td>\n",
       "      <td>...</td>\n",
       "      <td>-1.483377</td>\n",
       "      <td>-1.641919</td>\n",
       "      <td>-1.912981</td>\n",
       "      <td>-2.038179</td>\n",
       "      <td>-2.030007</td>\n",
       "      <td>-1.922285</td>\n",
       "      <td>-2.078592</td>\n",
       "      <td>-2.155253</td>\n",
       "      <td>-2.029796</td>\n",
       "      <td>-2.079041</td>\n",
       "    </tr>\n",
       "    <tr>\n",
       "      <th>4</th>\n",
       "      <td>-0.530949</td>\n",
       "      <td>-0.510521</td>\n",
       "      <td>-0.429843</td>\n",
       "      <td>-0.428534</td>\n",
       "      <td>-0.374319</td>\n",
       "      <td>-0.422863</td>\n",
       "      <td>-0.431010</td>\n",
       "      <td>-0.568670</td>\n",
       "      <td>-0.481407</td>\n",
       "      <td>-0.513388</td>\n",
       "      <td>...</td>\n",
       "      <td>1.187472</td>\n",
       "      <td>1.387604</td>\n",
       "      <td>1.737118</td>\n",
       "      <td>1.922601</td>\n",
       "      <td>1.955454</td>\n",
       "      <td>1.946956</td>\n",
       "      <td>2.266048</td>\n",
       "      <td>2.430764</td>\n",
       "      <td>2.285600</td>\n",
       "      <td>2.043182</td>\n",
       "    </tr>\n",
       "  </tbody>\n",
       "</table>\n",
       "<p>5 rows × 65536 columns</p>\n",
       "</div>"
      ],
      "text/plain": [
       "      1 sec     2 sec     3 sec     4 sec     5 sec     6 sec     7 sec   \n",
       "0  0.214941  0.228279  0.240475  0.260607  0.208050  0.126753  0.065538  \\\n",
       "1  0.971405  0.980312  0.916523  0.923907  0.953878  0.854252  0.576654   \n",
       "2  0.470054  0.491595  0.464476  0.485335  0.419391  0.276981  0.239148   \n",
       "3 -1.214460 -1.193362 -1.043654 -1.110125 -1.078175 -1.080326 -1.160086   \n",
       "4 -0.530949 -0.510521 -0.429843 -0.428534 -0.374319 -0.422863 -0.431010   \n",
       "\n",
       "      8 sec     9 sec    10 sec  ...  65527 sec  65528 sec  65529 sec   \n",
       "0  0.115181  0.144884  0.191248  ...   0.088626   0.157729   0.202158  \\\n",
       "1  0.927088  0.812180  1.015764  ...   0.127856   0.165076   0.181198   \n",
       "2  0.214900  0.318188  0.236900  ...  -0.241655  -0.246052  -0.230415   \n",
       "3 -1.392316 -1.404631 -1.315309  ...  -1.483377  -1.641919  -1.912981   \n",
       "4 -0.568670 -0.481407 -0.513388  ...   1.187472   1.387604   1.737118   \n",
       "\n",
       "   65530 sec  65531 sec  65532 sec  65533 sec  65534 sec  65535 sec  65536 sec  \n",
       "0   0.201237   0.061257   0.060956   0.037360   0.224294   0.151970  -0.014293  \n",
       "1   0.218158   0.127828   0.095513   0.087492   0.169431   0.134480   0.161639  \n",
       "2  -0.237020  -0.236365  -0.256937  -0.117470  -0.049210   0.120199   0.123864  \n",
       "3  -2.038179  -2.030007  -1.922285  -2.078592  -2.155253  -2.029796  -2.079041  \n",
       "4   1.922601   1.955454   1.946956   2.266048   2.430764   2.285600   2.043182  \n",
       "\n",
       "[5 rows x 65536 columns]"
      ]
     },
     "execution_count": 5290,
     "metadata": {},
     "output_type": "execute_result"
    }
   ],
   "source": [
    "signals = pd.read_csv(\"transformed_signal_data/labeled_signals.csv\")\n",
    "signals.head()\n",
    "X = signals.copy()\n",
    "\n",
    "y = X.pop('Label')\n",
    "X_scaled = X.copy() #X.iloc[:, 0:]\n",
    "X_scaled = (X_scaled - X_scaled.mean(axis=0)) / X_scaled.std(axis=0)\n",
    "X_scaled.head()\n"
   ]
  },
  {
   "cell_type": "code",
   "execution_count": 5291,
   "metadata": {},
   "outputs": [],
   "source": [
    "arr_n, chf_n, nsr_n = rand_num(1, 96), rand_num(97, 126), rand_num(127, 162)\n",
    "#arr_n, chf_n, nsr_n = 50, 100, 150\n",
    "\n",
    "assert arr_n >= 1 and arr_n <= 96\n",
    "assert chf_n >= 97 and chf_n <= 126\n",
    "assert nsr_n >= 127 and nsr_n <= 162\n",
    "\n",
    "signal_arr = X_scaled.loc[16]\n",
    "signal_chf = X_scaled.loc[chf_n]\n",
    "signal_nsr = X_scaled.loc[nsr_n]\n"
   ]
  },
  {
   "attachments": {},
   "cell_type": "markdown",
   "metadata": {},
   "source": [
    "## Peaks 🗻\n"
   ]
  },
  {
   "cell_type": "code",
   "execution_count": 5292,
   "metadata": {},
   "outputs": [],
   "source": [
    "from scipy.signal import find_peaks"
   ]
  },
  {
   "cell_type": "code",
   "execution_count": 5293,
   "metadata": {},
   "outputs": [],
   "source": [
    "arr = signal_arr.copy()\n",
    "nsr = signal_nsr.copy()\n",
    "chf = signal_chf.copy()\n",
    "\n",
    "# arr = arr[1000:6000].reset_index()\n",
    "# nsr = nsr[1000:6000].reset_index()\n",
    "# chf = chf[1000:6000].reset_index()\n",
    "\n",
    "arr_sig = arr\n",
    "nsr_sig = nsr\n",
    "chf_sig = chf\n",
    "\n",
    "# arr_sig = moving_median(arr.SignalData)\n",
    "# nsr_sig = moving_median(nsr.SignalData)\n",
    "# chf_sig = moving_median(chf.SignalData)\n",
    "\n",
    "\n",
    "# arr_sig = fft_filter(arr_sig)[0]\n",
    "# nsr_sig = fft_filter(nsr_sig)[0]\n",
    "# chf_sig = fft_filter(chf_sig)[0]\n",
    "\n",
    "arr_sig = fft2_filter(arr_sig)[0]\n",
    "nsr_sig = fft2_filter(nsr_sig)[0]\n",
    "chf_sig = fft2_filter(chf_sig)[0]\n",
    "\n",
    "# arr_sig = fftfreq_filter(arr_sig)[0]\n",
    "# nsr_sig = fftfreq_filter(nsr_sig)[0]\n",
    "# chf_sig = fftfreq_filter(chf_sig)[0]\n",
    "\n",
    "\n",
    "# n_average = 20 \n",
    "# arr_sig = moving_average(arr_sig, n=n_average)\n",
    "# nsr_sig = moving_average(nsr_sig, n=n_average)\n",
    "# chf_sig = moving_average(chf_sig, n=n_average)\n",
    "\n",
    "# n_median = 200 \n",
    "# arr_sig = moving_median(arr_sig, n=n_median)\n",
    "# nsr_sig = moving_median(nsr_sig, n=n_median)\n",
    "# chf_sig = moving_median(chf_sig, n=n_median)\n",
    "\n",
    "\n",
    "arr_sig = apply_wave_filter(arr_sig)[0]\n",
    "nsr_sig = apply_wave_filter(nsr_sig)[0]\n",
    "chf_sig = apply_wave_filter(chf_sig)[0]\n",
    "\n",
    "# n_median = 200 \n",
    "# arr_sig = moving_median(arr_sig, n=n_median)\n",
    "# nsr_sig = moving_median(nsr_sig, n=n_median)\n",
    "# chf_sig = moving_median(chf_sig, n=n_median)\n",
    "\n",
    "\n",
    "#arr_sig.head()\n",
    "\n",
    "\n"
   ]
  },
  {
   "cell_type": "code",
   "execution_count": 5304,
   "metadata": {},
   "outputs": [],
   "source": [
    "distance = 30 \n",
    "p = 5500\n",
    "pl = 950\n",
    "w = 7 \n",
    "\n",
    "arr_peaks, arr_peaks_props = find_peaks(arr_sig, height=0, distance=distance, prominence=(pl, p), width=w)\n",
    "nsr_peaks, nsr_peaks_props = find_peaks(nsr_sig, height=0, distance=distance, prominence=(pl, p), width=w)\n",
    "chf_peaks, chf_peaks_props = find_peaks(chf_sig, height=0, distance=distance, prominence=(pl, p), width=w)\n",
    "\n",
    "# arr_peaks, arr_peaks_props = find_peaks(arr_sig, height=0, distance=distance)\n",
    "# nsr_peaks, nsr_peaks_props = find_peaks(nsr_sig, height=0, distance=distance)\n",
    "# chf_peaks, chf_peaks_props = find_peaks(chf_sig, height=0, distance=distance)\n"
   ]
  },
  {
   "cell_type": "code",
   "execution_count": 5295,
   "metadata": {},
   "outputs": [],
   "source": [
    "def plot_sig(sig, peaks, title):\n",
    "    plt.figure(figsize=(14, 4))\n",
    "    plt.title(title)\n",
    "    plt.plot(sig)\n",
    "    plt.plot(peaks, sig[peaks], \"x\")\n",
    "    plt.plot(np.zeros_like(sig), \"--\", color=\"gray\")\n",
    "    plt.show()"
   ]
  },
  {
   "cell_type": "code",
   "execution_count": 5305,
   "metadata": {},
   "outputs": [
    {
     "data": {
      "image/png": "[encoded data removed]",
      "text/plain": [
       "<Figure size 1400x400 with 1 Axes>"
      ]
     },
     "metadata": {},
     "output_type": "display_data"
    },
    {
     "data": {
      "image/png": "[encoded data removed]",
      "text/plain": [
       "<Figure size 1400x400 with 1 Axes>"
      ]
     },
     "metadata": {},
     "output_type": "display_data"
    }
   ],
   "source": [
    "plot_sig(arr_sig, arr_peaks, \"ARR\")\n",
    "plot_sig(chf_sig, chf_peaks, \"CHF\")\n",
    "# plot_sig(nsr_sig, nsr_peaks, \"NSR\")"
   ]
  },
  {
   "cell_type": "code",
   "execution_count": 5297,
   "metadata": {},
   "outputs": [],
   "source": [
    "\n",
    "def print_info(peak, peak_props, title):\n",
    "    print(\"----------------PEAK INFO----------------\")\n",
    "    print(title)\n",
    "    diff = np.diff(peak)\n",
    "    print(\"Total Peaks\", len(peak))\n",
    "    print(\"----------------DISTANCE INFO----------------\")\n",
    "    print(\" max peak distance: \", np.max(diff))\n",
    "    print(\" min peak distance: \", np.min(diff))\n",
    "    print(\" mean peak distance: \", np.mean(diff))\n",
    "    print(\" mean peak distance: \", np.mean(diff))\n",
    "    print(\" median peak distance: \", np.median(diff))\n",
    "    print(\" standard deviation: \", np.std(diff))\n",
    "    print(\" IQR peak distance: \", np.quantile(diff, q=.75) - np.quantile(diff, q=.25))\n",
    "    print(\"----------------Properties INFO----------------\")\n",
    "    print(\" max prominence: \", peak_props[\"prominences\"].max()) \n",
    "    print(\" min prominence: \", peak_props[\"prominences\"].min()) \n",
    "    print(\" median prominence: \", np.median(peak_props[\"prominences\"])) \n",
    "    print(\" IQR prominence: \", np.quantile(peak_props[\"prominences\"], q=.75) - np.quantile(peak_props[\"prominences\"], q=.25)) \n",
    "    print(\" max widths: \", peak_props[\"widths\"].max()) \n",
    "    print(\" min widths: \", peak_props[\"widths\"].min()) \n",
    "    print(\" median widths: \", np.median(peak_props[\"widths\"])) \n",
    "    print(\" IQR widths: \", np.quantile(peak_props[\"widths\"], q=.75) - np.quantile(peak_props[\"widths\"], q=.25)) \n",
    "    print(\"----------------END PEAK INFO----------------\")\n",
    "    "
   ]
  },
  {
   "cell_type": "code",
   "execution_count": 5298,
   "metadata": {},
   "outputs": [
    {
     "name": "stdout",
     "output_type": "stream",
     "text": [
      "----------------PEAK INFO----------------\n",
      "ARR Peaks\n",
      "Total Peaks 211\n",
      "----------------DISTANCE INFO----------------\n",
      " max peak distance:  49556\n",
      " min peak distance:  30\n",
      " mean peak distance:  311.67619047619047\n",
      " mean peak distance:  311.67619047619047\n",
      " median peak distance:  58.5\n",
      " standard deviation:  3407.457196028505\n",
      " IQR peak distance:  44.25\n",
      "----------------Properties INFO----------------\n",
      " max prominence:  5432.4903124335015\n",
      " min prominence:  1219.1258820510402\n",
      " median prominence:  1905.635150125489\n",
      " IQR prominence:  1228.595086377634\n",
      " max widths:  25.25344761048882\n",
      " min widths:  5.194183320782031\n",
      " median widths:  9.626993154182856\n",
      " IQR widths:  3.418628675065861\n",
      "----------------END PEAK INFO----------------\n"
     ]
    }
   ],
   "source": [
    "print_info(arr_peaks, arr_peaks_props, \"ARR Peaks\")\n",
    "#print_info(nsr_peaks, nsr_peaks_props, \"NSR Peaks\")\n",
    "#print(\"\\n\\n\")"
   ]
  },
  {
   "cell_type": "code",
   "execution_count": 5299,
   "metadata": {},
   "outputs": [
    {
     "name": "stdout",
     "output_type": "stream",
     "text": [
      "----------------PEAK INFO----------------\n",
      "CHF Peaks\n",
      "Total Peaks 19\n",
      "----------------DISTANCE INFO----------------\n",
      " max peak distance:  59201\n",
      " min peak distance:  30\n",
      " mean peak distance:  3636.1111111111113\n",
      " mean peak distance:  3636.1111111111113\n",
      " median peak distance:  360.0\n",
      " standard deviation:  13479.355758133286\n",
      " IQR peak distance:  636.5\n",
      "----------------Properties INFO----------------\n",
      " max prominence:  3157.7741243440396\n",
      " min prominence:  1220.9406430099507\n",
      " median prominence:  1741.31571852534\n",
      " IQR prominence:  912.3310431428658\n",
      " max widths:  59.208677437564575\n",
      " min widths:  6.951557407090149\n",
      " median widths:  12.680226645265066\n",
      " IQR widths:  5.164413065828253\n",
      "----------------END PEAK INFO----------------\n"
     ]
    }
   ],
   "source": [
    "print_info(chf_peaks, chf_peaks_props, \"CHF Peaks\")"
   ]
  }
 ],
 "metadata": {
  "kernelspec": {
   "display_name": ".venv",
   "language": "python",
   "name": "python3"
  },
  "language_info": {
   "codemirror_mode": {
    "name": "ipython",
    "version": 3
   },
   "file_extension": ".py",
   "mimetype": "text/x-python",
   "name": "python",
   "nbconvert_exporter": "python",
   "pygments_lexer": "ipython3",
   "version": "3.8.10"
  },
  "orig_nbformat": 4
 },
 "nbformat": 4,
 "nbformat_minor": 2
}
